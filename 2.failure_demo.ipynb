{
 "cells": [
  {
   "cell_type": "markdown",
   "metadata": {},
   "source": [
    "# Failures\n",
    "\n",
    "Failure cause hosts to stop periodically. In OpenDC, failures can be simulated by providing a trace. \n",
    "This trace describes when failures occur, how long they are, and how intens (how many hosts are effected). \n",
    "\n",
    "In this demo, we will investigate the effect of failures.\n",
    "\n",
    "#### Lets start by looking at one of the failure traces."
   ]
  },
  {
   "cell_type": "code",
   "execution_count": null,
   "metadata": {},
   "outputs": [],
   "source": [
    "import pandas as pd\n",
    "\n",
    "df_failure = pd.read_parquet(\"failure_traces/Facebook_user_reported.parquet\")\n",
    "\n",
    "df_failure"
   ]
  },
  {
   "cell_type": "markdown",
   "metadata": {},
   "source": [
    "## Experiment\n",
    "\n",
    "Failures can be added to the simulation using the experiment file. \n",
    "First, we will run a workload with, and without failures. \n",
    "\n",
    "For this we need to run two simulations, one using an experiment file similar to the one used in the previous demo. You can find the file [here](experiments/2.no_failures.json)\n",
    "\n",
    "Next, we make an experiment with failures. To do this we need to add a \"failureModel\" to the experiment file. \n",
    "This results in the experiment file that can be found [here](experiments/2.Facebook_failures.json), and is shown below:\n",
    "\n",
    "```json\n",
    "{\n",
    "    \"name\": \"Facebook_failures\",\n",
    "    \"outputFolder\": \"output/2.failures\",\n",
    "    \"topologies\": [\n",
    "        {\n",
    "            \"pathToFile\": \"topologies/2.demo_failures/surfsara_small.json\"\n",
    "        }\n",
    "    ],\n",
    "    \"workloads\": [\n",
    "        {\n",
    "            \"pathToFile\": \"workload_traces/2022-10-01_2022-10-02\",\n",
    "            \"type\": \"ComputeWorkload\"\n",
    "        }\n",
    "    ],\n",
    "    \"exportModels\": [\n",
    "        {\n",
    "            \"exportInterval\": 300\n",
    "        }\n",
    "    ],\n",
    "    \"failureModels\": [\n",
    "        {\n",
    "            \"type\": \"trace-based\",\n",
    "            \"pathToFile\": \"failure_traces/Facebook_user_reported.parquet\"\n",
    "        }\n",
    "    ]\n",
    "}\n",
    "```\n",
    "\n",
    "This experiment adds the Facebook_user_reported failure trace to the simulation. \n",
    "\n",
    "#### Lets run both experiments"
   ]
  },
  {
   "cell_type": "code",
   "execution_count": null,
   "metadata": {},
   "outputs": [],
   "source": [
    "import subprocess\n",
    "\n",
    "pathToScenario = \"experiments/2.Facebook_failures.json\"\n",
    "subprocess.run([\"OpenDCExperimentRunner/bin/OpenDCExperimentRunner\", \"--experiment-path\", pathToScenario])"
   ]
  },
  {
   "cell_type": "markdown",
   "metadata": {},
   "source": [
    "## Analysis\n",
    "\n",
    "We can see that many tasks did not succeed.\n",
    "When a tasks fails too many times, the task gets terminated from the system.\n",
    "Lets further investigate the failures \n"
   ]
  },
  {
   "cell_type": "code",
   "execution_count": null,
   "metadata": {},
   "outputs": [],
   "source": [
    "import pandas as pd\n",
    "import numpy as np\n",
    "import matplotlib.pyplot as plt\n",
    "\n",
    "\n",
    "df_host = pd.read_parquet(\"output/2.failures/Facebook_failures/raw-output/0/seed=0/host.parquet\")\n",
    "df_power = pd.read_parquet(\"output/2.failures/Facebook_failures/raw-output/0/seed=0/powerSource.parquet\")\n",
    "df_task = pd.read_parquet(\"output/2.failures/Facebook_failures/raw-output/0/seed=0/task.parquet\")\n",
    "df_service = pd.read_parquet(\"output/2.failures/Facebook_failures/raw-output/0/seed=0/service.parquet\")\n",
    "\n",
    "df_host_fail = pd.read_parquet(\"output/2.failures/Facebook_failures/raw-output/1/seed=0/host.parquet\")\n",
    "df_power_fail = pd.read_parquet(\"output/2.failures/Facebook_failures/raw-output/1/seed=0/powerSource.parquet\")\n",
    "df_task_fail = pd.read_parquet(\"output/2.failures/Facebook_failures/raw-output/1/seed=0/task.parquet\")\n",
    "df_service_fail = pd.read_parquet(\"output/2.failures/Facebook_failures/raw-output/1/seed=0/service.parquet\")"
   ]
  },
  {
   "cell_type": "code",
   "execution_count": null,
   "metadata": {},
   "outputs": [],
   "source": [
    "tasks_terminated = df_service.iloc[-1].tasks_terminated\n",
    "tasks_terminated_fail = df_service_fail.iloc[-1].tasks_terminated\n",
    "\n",
    "print(f\"In the normal simulation {tasks_terminated} tasks were terminated\")\n",
    "print(f\"When adding failures {tasks_terminated_fail} tasks were terminated\")"
   ]
  },
  {
   "cell_type": "markdown",
   "metadata": {},
   "source": [
    "#### Lets compare the runtimes"
   ]
  },
  {
   "cell_type": "code",
   "execution_count": null,
   "metadata": {},
   "outputs": [],
   "source": [
    "runtime = pd.to_timedelta(df_service.timestamp.max() - df_service.timestamp.min(), unit=\"ms\")\n",
    "runtime_fail = pd.to_timedelta(df_service_fail.timestamp.max() - df_service_fail.timestamp.min(), unit=\"ms\")\n",
    "\n",
    "print(f\"The workload took {runtime} without failures\")\n",
    "print(f\"The workload took {runtime_fail} with failures\")\n"
   ]
  },
  {
   "cell_type": "markdown",
   "metadata": {},
   "source": [
    "##### Adding failures almost tripled the runtime!"
   ]
  },
  {
   "cell_type": "markdown",
   "metadata": {},
   "source": [
    "## Visualization\n",
    "\n",
    "We can plot the active tasks over time to see what is happening"
   ]
  },
  {
   "cell_type": "code",
   "execution_count": null,
   "metadata": {},
   "outputs": [],
   "source": [
    "import matplotlib.dates as mdates\n",
    "\n",
    "timestamps = pd.to_datetime(df_service[:-1].timestamp_absolute, unit=\"ms\")\n",
    "timestamps_failures = pd.to_datetime(df_service_fail[:-1].timestamp_absolute, unit=\"ms\")\n",
    "\n",
    "\n",
    "fig, ax = plt.subplots(figsize=(10,5))\n",
    "ax.plot(timestamps, df_service[:-1].tasks_active, label=\"no failures\")\n",
    "ax.plot(timestamps_failures, df_service_fail[:-1].tasks_active, label=\"failures\")\n",
    "\n",
    "plt.title(\"Tasks active during a workload\")\n",
    "plt.xlabel(\"Time\")\n",
    "plt.ylabel(\"Carbon Emission (CO2/h)\")\n",
    "ax.xaxis.set_major_locator(plt.MaxNLocator(3))\n",
    "myFmt = mdates.DateFormatter('%y-%m-%d %H:%M:%S')\n",
    "ax.xaxis.set_major_formatter(myFmt)\n",
    "\n",
    "plt.legend()\n",
    "plt.show()"
   ]
  },
  {
   "cell_type": "markdown",
   "metadata": {},
   "source": [
    "#### We can clearly see that the failures are creating idle periods"
   ]
  },
  {
   "cell_type": "markdown",
   "metadata": {},
   "source": [
    "## Comparing Failure traces\n",
    "\n",
    "In the failure_traces folder we find five failure traces gathered from different applications. \n",
    "Lets compare the effect of the different failure traces on the same workload. \n",
    "To do this, we have created a new experiment which you can find [here](experiments/2.all_failures.json).\n",
    "Its content is shown below:\n",
    "\n",
    "```json\n",
    "{\n",
    "    \"name\": \"all_failures\",\n",
    "    \"outputFolder\": \"output/2.failures\",\n",
    "    \"topologies\": [\n",
    "        {\n",
    "            \"pathToFile\": \"topologies/2.demo_failures/surfsara_small.json\"\n",
    "        }\n",
    "    ],\n",
    "    \"workloads\": [\n",
    "        {\n",
    "            \"pathToFile\": \"workload_traces/2022-10-01_2022-10-02\",\n",
    "            \"type\": \"ComputeWorkload\"\n",
    "        }\n",
    "    ],\n",
    "    \"exportModels\": [\n",
    "        {\n",
    "            \"exportInterval\": 300\n",
    "        }\n",
    "    ],\n",
    "    \"failureModels\": [\n",
    "        {\n",
    "            \"type\": \"trace-based\",\n",
    "            \"pathToFile\": \"failure_traces/Facebook_user_reported.parquet\"\n",
    "        },\n",
    "        {\n",
    "            \"type\": \"trace-based\",\n",
    "            \"pathToFile\": \"failure_traces/Instagram_user_reported.parquet\"\n",
    "        },\n",
    "        {\n",
    "            \"type\": \"trace-based\",\n",
    "            \"pathToFile\": \"failure_traces/Netflix_user_reported.parquet\"\n",
    "        },\n",
    "        {\n",
    "            \"type\": \"trace-based\",\n",
    "            \"pathToFile\": \"failure_traces/Whatsapp_user_reported.parquet\"\n",
    "        },\n",
    "        {\n",
    "            \"type\": \"trace-based\",\n",
    "            \"pathToFile\": \"failure_traces/YouTube_user_reported.parquet\"\n",
    "        }\n",
    "    ]\n",
    "}\n",
    "```\n",
    "\n",
    "Using a list of different failure traces instructs OpenDC to run multiple simulation, all with a different failure trace."
   ]
  },
  {
   "cell_type": "code",
   "execution_count": null,
   "metadata": {},
   "outputs": [],
   "source": [
    "import subprocess\n",
    "\n",
    "pathToScenario = \"experiments/2.all_failures.json\"\n",
    "subprocess.run([\"OpenDCExperimentRunner/bin/OpenDCExperimentRunner\", \"--experiment-path\", pathToScenario])\n"
   ]
  },
  {
   "cell_type": "markdown",
   "metadata": {},
   "source": [
    "## Visualization\n",
    "\n",
    "Lets load the output data, and compare the results"
   ]
  },
  {
   "cell_type": "code",
   "execution_count": null,
   "metadata": {},
   "outputs": [],
   "source": [
    "import pandas as pd\n",
    "import matplotlib.pyplot as plt\n",
    "\n",
    "df_host_facebook = pd.read_parquet(\"output/2.failures/all_failures/raw-output/0/seed=0/host.parquet\")\n",
    "df_power_facebook = pd.read_parquet(\"output/2.failures/all_failures/raw-output/0/seed=0/powerSource.parquet\")\n",
    "df_service_facebook = pd.read_parquet(\"output/2.failures/all_failures/raw-output/0/seed=0/service.parquet\")\n",
    "df_task_facebook = pd.read_parquet(\"output/2.failures/all_failures/raw-output/0/seed=0/task.parquet\")\n",
    "\n",
    "df_host_instagram = pd.read_parquet(\"output/2.failures/all_failures/raw-output/1/seed=0/host.parquet\")\n",
    "df_power_instagram = pd.read_parquet(\"output/2.failures/all_failures/raw-output/1/seed=0/powerSource.parquet\")\n",
    "df_service_instagram = pd.read_parquet(\"output/2.failures/all_failures/raw-output/1/seed=0/service.parquet\")\n",
    "df_task_instagram = pd.read_parquet(\"output/2.failures/all_failures/raw-output/1/seed=0/task.parquet\")\n",
    "\n",
    "df_host_netflix = pd.read_parquet(\"output/2.failures/all_failures/raw-output/2/seed=0/host.parquet\")\n",
    "df_power_netflix = pd.read_parquet(\"output/2.failures/all_failures/raw-output/2/seed=0/powerSource.parquet\")\n",
    "df_service_netflix = pd.read_parquet(\"output/2.failures/all_failures/raw-output/2/seed=0/service.parquet\")\n",
    "df_task_netflix = pd.read_parquet(\"output/2.failures/all_failures/raw-output/2/seed=0/task.parquet\")\n",
    "\n",
    "df_host_whatsapp = pd.read_parquet(\"output/2.failures/all_failures/raw-output/3/seed=0/host.parquet\")\n",
    "df_power_whatsapp = pd.read_parquet(\"output/2.failures/all_failures/raw-output/3/seed=0/powerSource.parquet\")\n",
    "df_service_whatsapp = pd.read_parquet(\"output/2.failures/all_failures/raw-output/3/seed=0/service.parquet\")\n",
    "df_task_whatsapp = pd.read_parquet(\"output/2.failures/all_failures/raw-output/3/seed=0/task.parquet\")\n",
    "\n",
    "df_host_youtube = pd.read_parquet(\"output/2.failures/all_failures/raw-output/4/seed=0/host.parquet\")\n",
    "df_power_youtube = pd.read_parquet(\"output/2.failures/all_failures/raw-output/4/seed=0/powerSource.parquet\")\n",
    "df_service_youtube = pd.read_parquet(\"output/2.failures/all_failures/raw-output/4/seed=0/service.parquet\")\n",
    "df_task_youtube = pd.read_parquet(\"output/2.failures/all_failures/raw-output/4/seed=0/task.parquet\")"
   ]
  },
  {
   "cell_type": "code",
   "execution_count": null,
   "metadata": {},
   "outputs": [],
   "source": [
    "fig, ax = plt.subplots(figsize=(20,5))\n",
    "\n",
    "ax.plot(df_service_facebook.tasks_active, label=\"facebook\")\n",
    "ax.plot(df_service_instagram.tasks_active, label=\"instagram\")\n",
    "ax.plot(df_service_netflix.tasks_active, label=\"netflix\")\n",
    "ax.plot(df_service_whatsapp.tasks_active, label=\"whatsapp\")\n",
    "ax.plot(df_service_youtube.tasks_active, label=\"youtube\")\n",
    "\n",
    "ax.legend()\n",
    "\n",
    "plt.show()\n"
   ]
  },
  {
   "cell_type": "markdown",
   "metadata": {},
   "source": [
    "#### We can see a clear difference between when the failures occur, their intensity, and the overall effect of the failures."
   ]
  }
 ],
 "metadata": {
  "kernelspec": {
   "display_name": ".venv",
   "language": "python",
   "name": "python3"
  },
  "language_info": {
   "codemirror_mode": {
    "name": "ipython",
    "version": 3
   },
   "file_extension": ".py",
   "mimetype": "text/x-python",
   "name": "python",
   "nbconvert_exporter": "python",
   "pygments_lexer": "ipython3",
   "version": "3.12.1"
  }
 },
 "nbformat": 4,
 "nbformat_minor": 2
}
