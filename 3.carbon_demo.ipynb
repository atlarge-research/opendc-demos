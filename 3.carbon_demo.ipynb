{
 "cells": [
  {
   "cell_type": "markdown",
   "metadata": {},
   "source": [
    "# Carbon Emsission\n",
    "\n",
    "To determine the carbon emission of a data center, OpenDC requires information about the \n",
    "type of information that is provided to the data center during the running of the workload. \n",
    "\n",
    "In this demo we will explore how carbon is used in OpenDC.\n",
    "We do this by running the same workload, on the same data center, on different locations. \n",
    "This shows the effect that the energy source has on the carbon emissions of a data center.\n"
   ]
  },
  {
   "cell_type": "markdown",
   "metadata": {},
   "source": [
    "## Carbon Trace\n",
    "\n",
    "Carbon emission is determined by multiplying the energy usage with the carbon intensity of the power source.\n",
    "\n",
    "The carbon instensity of the grid is provided using a trace in the form of a parquet file. \n",
    "\n",
    "We gather the carbon intensity information using the [ENTSO-e platform](https://www.entsoe.eu/). \n",
    "\n",
    "Using a carbon trace is done by adding a path to the trace to the topology file. Look [here](topologies/3.demo_carbon/surfsara_small_BE.json) for an example. This traces uses a carbon trace that provides the carbon intensity during the year 2022 in belgium. \n",
    "\n",
    "##### Lets have a look at a carbon trace"
   ]
  },
  {
   "cell_type": "code",
   "execution_count": null,
   "metadata": {},
   "outputs": [],
   "source": [
    "import pandas as pd\n",
    "\n",
    "df_carbon = pd.read_parquet(\"carbon_traces/carbon_2022.parquet\")\n",
    "\n",
    "df_carbon.head()"
   ]
  },
  {
   "cell_type": "markdown",
   "metadata": {},
   "source": [
    "#### The Carbon intensity trace defines the carbon intensity at different timestamps"
   ]
  },
  {
   "cell_type": "markdown",
   "metadata": {},
   "source": [
    "## Experiment \n",
    "\n",
    "To run an experiment in which different carbon traces are explored, we need to create a new experiment \n",
    "file which can be found [here](experiments/3.demo_carbon.json). This contains the following content:\n",
    "\n",
    "```json\n",
    "{\n",
    "    \"name\": \"3.demo_carbon\",\n",
    "    \"topologies\": [\n",
    "        {\n",
    "            \"pathToFile\": \"topologies/3.demo_carbon/surfsara_small_BE.json\"\n",
    "        },\n",
    "        {\n",
    "            \"pathToFile\": \"topologies/3.demo_carbon/surfsara_small_DE.json\"\n",
    "        },\n",
    "        {\n",
    "            \"pathToFile\": \"topologies/3.demo_carbon/surfsara_small_FR.json\"\n",
    "        },\n",
    "        {\n",
    "            \"pathToFile\": \"topologies/3.demo_carbon/surfsara_small_NL.json\"\n",
    "        }\n",
    "    ],\n",
    "    \"workloads\": [\n",
    "        {\n",
    "            \"pathToFile\": \"workload_traces/2022-10-01_2022-10-31\",\n",
    "            \"type\": \"ComputeWorkload\"\n",
    "        }\n",
    "    ],\n",
    "    \"exportModels\": [\n",
    "        {\n",
    "            \"exportInterval\": 30000\n",
    "        }\n",
    "    ]\n",
    "}\n",
    "```\n",
    "\n",
    "Using a list for the topology, OpenDC will run the same workload on the four different topologies. \n",
    "The topologies only differ in the carbon trace they use. "
   ]
  },
  {
   "cell_type": "code",
   "execution_count": null,
   "metadata": {},
   "outputs": [],
   "source": [
    "import subprocess\n",
    "\n",
    "pathToScenario = \"experiments/3.demo_carbon.json\"\n",
    "subprocess.run([\"OpenDCExperimentRunner/bin/OpenDCExperimentRunner\", \"--experiment-path\", pathToScenario])"
   ]
  },
  {
   "cell_type": "markdown",
   "metadata": {},
   "source": [
    "## Visualization\n",
    "\n",
    "Lets load the output data, and compare the results"
   ]
  },
  {
   "cell_type": "code",
   "execution_count": null,
   "metadata": {},
   "outputs": [],
   "source": [
    "import pandas as pd \n",
    "import matplotlib.pyplot as plt\n",
    "\n",
    "\n",
    "df_host_be = pd.read_parquet(\"output/3.demo_carbon/raw-output/0/seed=0/host.parquet\")\n",
    "df_power_be = pd.read_parquet(\"output/3.demo_carbon/raw-output/0/seed=0/powerSource.parquet\")\n",
    "df_service_be = pd.read_parquet(\"output/3.demo_carbon/raw-output/0/seed=0/service.parquet\")\n",
    "df_task_be = pd.read_parquet(\"output/3.demo_carbon/raw-output/0/seed=0/task.parquet\")\n",
    "\n",
    "df_host_de = pd.read_parquet(\"output/3.demo_carbon/raw-output/1/seed=0/host.parquet\")\n",
    "df_power_de = pd.read_parquet(\"output/3.demo_carbon/raw-output/1/seed=0/powerSource.parquet\")\n",
    "df_service_de = pd.read_parquet(\"output/3.demo_carbon/raw-output/1/seed=0/service.parquet\")\n",
    "df_task_de = pd.read_parquet(\"output/3.demo_carbon/raw-output/1/seed=0/task.parquet\")\n",
    "\n",
    "df_host_fr = pd.read_parquet(\"output/3.demo_carbon/raw-output/2/seed=0/host.parquet\")\n",
    "df_power_fr = pd.read_parquet(\"output/3.demo_carbon/raw-output/2/seed=0/powerSource.parquet\")\n",
    "df_service_fr = pd.read_parquet(\"output/3.demo_carbon/raw-output/2/seed=0/service.parquet\")\n",
    "df_task_fr = pd.read_parquet(\"output/3.demo_carbon/raw-output/2/seed=0/task.parquet\")\n",
    "\n",
    "df_host_nl = pd.read_parquet(\"output/3.demo_carbon/raw-output/3/seed=0/host.parquet\")\n",
    "df_power_nl = pd.read_parquet(\"output/3.demo_carbon/raw-output/3/seed=0/powerSource.parquet\")\n",
    "df_service_nl = pd.read_parquet(\"output/3.demo_carbon/raw-output/3/seed=0/service.parquet\")\n",
    "df_task_nl = pd.read_parquet(\"output/3.demo_carbon/raw-output/3/seed=0/task.parquet\")"
   ]
  },
  {
   "cell_type": "markdown",
   "metadata": {},
   "source": [
    "## Visualization\n",
    "\n",
    "Lets plot the Carbon Emission on each data center during the workload."
   ]
  },
  {
   "cell_type": "code",
   "execution_count": null,
   "metadata": {},
   "outputs": [],
   "source": [
    "fig, ax = plt.subplots(figsize=(15,5))\n",
    "\n",
    "ax.plot(df_power_be.timestamp/1000/60/60/24, df_power_be.carbon_emission / 1000, label=\"BE\")\n",
    "ax.plot(df_power_de.timestamp/1000/60/60/24, df_power_de.carbon_emission / 1000, label=\"DE\")\n",
    "ax.plot(df_power_fr.timestamp/1000/60/60/24, df_power_fr.carbon_emission / 1000, label=\"FR\")\n",
    "ax.plot(df_power_nl.timestamp/1000/60/60/24, df_power_nl.carbon_emission / 1000, label=\"NL\")\n",
    "\n",
    "plt.title(\"Carbon Emission on different locations\")\n",
    "ax.legend()\n",
    "\n",
    "plt.xlabel(\"Time (days)\")\n",
    "plt.ylabel(\"Carbon (kg)\")\n",
    "\n",
    "plt.show()"
   ]
  },
  {
   "cell_type": "markdown",
   "metadata": {},
   "source": [
    "#### It is clear that location has a great impact on the carbon emission"
   ]
  }
 ],
 "metadata": {
  "kernelspec": {
   "display_name": ".venv",
   "language": "python",
   "name": "python3"
  },
  "language_info": {
   "codemirror_mode": {
    "name": "ipython",
    "version": 3
   },
   "file_extension": ".py",
   "mimetype": "text/x-python",
   "name": "python",
   "nbconvert_exporter": "python",
   "pygments_lexer": "ipython3",
   "version": "3.12.1"
  }
 },
 "nbformat": 4,
 "nbformat_minor": 2
}
