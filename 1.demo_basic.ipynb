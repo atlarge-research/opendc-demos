{
 "cells": [
  {
   "cell_type": "markdown",
   "metadata": {},
   "source": [
    "# OpenDC\n",
    "\n",
    "Data centers are becoming an increasingly large contributor to the global carbon footprint. However, because of a lack of tools / guidelines, it has been challenging to optimize data centers for carbon emissions. This is amplified by the fact that running experiments on data centers is both expansive and time consuming. \n",
    "\n",
    "OpenDC is a event-based discrete data center simulator. Using such a tool we can do experiments on data centers in a cost-effective and flexible way. In this demo we are going to compare a small and large data center using OpenDC. We are comparing the data centers in terms of performance and sustainability.\n",
    "\n",
    "You can read more about OpenDC [here](https://opendc.org/)."
   ]
  },
  {
   "cell_type": "markdown",
   "metadata": {
    "slideshow": {
     "slide_type": "slide"
    }
   },
   "source": [
    "# 1. Topology\n",
    "\n",
    "To run a simulation, OpenDC needs a definition of the data center, which we call the topology. The topology of a data center can influence its performance and sustainability greatly. It determines which tasks can be run, how efficiently they are run, and if they can be executed in parallel.\n",
    "\n",
    "The topology of datacenter is provided using a JSON file. This file defines how many clusters are available, the hosts they contain, and what type of hosts they are. In this demo we compare the performance of two topologies: [small](topologies/1.demo_basic/large_topology.json) and [here](topologies/1.demo_basic/large_topology.json) which can both be found in the resources/topologies folder. The small topology is shown below\n",
    "\n",
    "```json\n",
    "{\n",
    "    \"clusters\": [\n",
    "        {\n",
    "            \"name\": \"C01\",\n",
    "            \"hosts\": [\n",
    "                {\n",
    "                    \"name\": \"H01\",\n",
    "                    \"count\": 1,\n",
    "                    \"cpu\": {\n",
    "                        \"coreCount\": 16,\n",
    "                        \"coreSpeed\": 3300\n",
    "                    },\n",
    "                    \"memory\": {\n",
    "                        \"memorySize\": 140457600000\n",
    "                    }\n",
    "                }\n",
    "            ]\n",
    "        }\n",
    "    ]\n",
    "}\n",
    "```\n",
    "\n",
    "The small data center contains only a single cluster *C01*, which contains a single host *H01*. Host *H01* constains two CPUs with 16 cores running at 3200 Mhz, and has a memory of 140457600000 Bytes.\n",
    "\n",
    "*Exercise 1:* Can you find out what hardware is contained in the large topology located [here](topologies/1.demo_basic/large_topology.json)?"
   ]
  },
  {
   "cell_type": "markdown",
   "metadata": {},
   "source": [
    "# 2. Workloads\n",
    "\n",
    "To run a simulation, OpenDC requires information on the type of workload to execute.\n",
    "\n",
    "\n",
    "The workload is provided using two files:\n",
    "<ul>\n",
    "    <li> **tasks.parquet** provides a general overview of the tasks executed during the workload. </li>\n",
    "    <li> **fragments.parquet** provides detailed information of each task during its runtime. </li>\n",
    "</ul>\n",
    "\n",
    "In this demo we are using running the [bitbrains-small](resources/workloads/bitbrains-small/) dataset as our workload. The bitbrains-small workload consist of 50 tasks with a runtime ranging from less than 7 days to more than 30 days. \n",
    "\n",
    "##### Lets have a look at the files"
   ]
  },
  {
   "cell_type": "code",
   "metadata": {
    "ExecuteTime": {
     "end_time": "2025-06-27T12:10:49.847317Z",
     "start_time": "2025-06-27T12:10:49.774798Z"
    }
   },
   "source": [
    "import pandas as pd\n",
    "\n",
    "df_tasks = pd.read_parquet(\"workload_traces/bitbrains-small/tasks.parquet\")\n",
    "df_fragments = pd.read_parquet(\"workload_traces/bitbrains-small/fragments.parquet\")"
   ],
   "outputs": [
    {
     "ename": "ModuleNotFoundError",
     "evalue": "No module named 'pandas'",
     "output_type": "error",
     "traceback": [
      "\u001B[31m---------------------------------------------------------------------------\u001B[39m",
      "\u001B[31mModuleNotFoundError\u001B[39m                       Traceback (most recent call last)",
      "\u001B[36mCell\u001B[39m\u001B[36m \u001B[39m\u001B[32mIn[1]\u001B[39m\u001B[32m, line 1\u001B[39m\n\u001B[32m----> \u001B[39m\u001B[32m1\u001B[39m \u001B[38;5;28;01mimport\u001B[39;00m\u001B[38;5;250m \u001B[39m\u001B[34;01mpandas\u001B[39;00m\u001B[38;5;250m \u001B[39m\u001B[38;5;28;01mas\u001B[39;00m\u001B[38;5;250m \u001B[39m\u001B[34;01mpd\u001B[39;00m\n\u001B[32m      3\u001B[39m df_tasks = pd.read_parquet(\u001B[33m\"\u001B[39m\u001B[33mworkload_traces/bitbrains-small/tasks.parquet\u001B[39m\u001B[33m\"\u001B[39m)\n\u001B[32m      4\u001B[39m df_fragments = pd.read_parquet(\u001B[33m\"\u001B[39m\u001B[33mworkload_traces/bitbrains-small/fragments.parquet\u001B[39m\u001B[33m\"\u001B[39m)\n",
      "\u001B[31mModuleNotFoundError\u001B[39m: No module named 'pandas'"
     ]
    }
   ],
   "execution_count": 1
  },
  {
   "cell_type": "code",
   "metadata": {
    "jupyter": {
     "is_executing": true
    }
   },
   "source": [
    "df_tasks.head()"
   ],
   "outputs": [],
   "execution_count": null
  },
  {
   "cell_type": "code",
   "metadata": {
    "jupyter": {
     "is_executing": true
    }
   },
   "source": [
    "df_fragments.head()"
   ],
   "outputs": [],
   "execution_count": null
  },
  {
   "cell_type": "markdown",
   "metadata": {},
   "source": [
    "# 3. Carbon Trace\n",
    "\n",
    "- Carbon Traces define the Carbon Intenisty of the available energy over time\n",
    "\n",
    "- Gathered using ENTSO-E\n",
    "\n",
    "- Specific to the location of the data center\n",
    "\n",
    "- Defined as a JSON file"
   ]
  },
  {
   "cell_type": "code",
   "execution_count": 4,
   "metadata": {},
   "outputs": [
    {
     "data": {
      "text/html": [
       "<div>\n",
       "<style scoped>\n",
       "    .dataframe tbody tr th:only-of-type {\n",
       "        vertical-align: middle;\n",
       "    }\n",
       "\n",
       "    .dataframe tbody tr th {\n",
       "        vertical-align: top;\n",
       "    }\n",
       "\n",
       "    .dataframe thead th {\n",
       "        text-align: right;\n",
       "    }\n",
       "</style>\n",
       "<table border=\"1\" class=\"dataframe\">\n",
       "  <thead>\n",
       "    <tr style=\"text-align: right;\">\n",
       "      <th></th>\n",
       "      <th>timestamp</th>\n",
       "      <th>carbon_intensity</th>\n",
       "    </tr>\n",
       "  </thead>\n",
       "  <tbody>\n",
       "    <tr>\n",
       "      <th>0</th>\n",
       "      <td>2021-12-31 23:00:00</td>\n",
       "      <td>168.138693</td>\n",
       "    </tr>\n",
       "    <tr>\n",
       "      <th>1</th>\n",
       "      <td>2021-12-31 23:15:00</td>\n",
       "      <td>167.050014</td>\n",
       "    </tr>\n",
       "    <tr>\n",
       "      <th>2</th>\n",
       "      <td>2021-12-31 23:30:00</td>\n",
       "      <td>164.552936</td>\n",
       "    </tr>\n",
       "    <tr>\n",
       "      <th>3</th>\n",
       "      <td>2021-12-31 23:45:00</td>\n",
       "      <td>167.493769</td>\n",
       "    </tr>\n",
       "    <tr>\n",
       "      <th>4</th>\n",
       "      <td>2022-01-01 00:00:00</td>\n",
       "      <td>164.517793</td>\n",
       "    </tr>\n",
       "  </tbody>\n",
       "</table>\n",
       "</div>"
      ],
      "text/plain": [
       "            timestamp  carbon_intensity\n",
       "0 2021-12-31 23:00:00        168.138693\n",
       "1 2021-12-31 23:15:00        167.050014\n",
       "2 2021-12-31 23:30:00        164.552936\n",
       "3 2021-12-31 23:45:00        167.493769\n",
       "4 2022-01-01 00:00:00        164.517793"
      ]
     },
     "execution_count": 4,
     "metadata": {},
     "output_type": "execute_result"
    }
   ],
   "source": [
    "df_carbon = pd.read_parquet(\"carbon_traces/carbon_2022.parquet\")\n",
    "\n",
    "df_carbon.head()"
   ]
  },
  {
   "cell_type": "markdown",
   "metadata": {},
   "source": [
    "# 4. Experiment\n",
    "\n",
    "Finally, OpenDC needs an experiment file. The Experiment file describes what needs to be run, how, and when. An experiment is delilvered using a JSON file. The experiment we will use for this demo can be found [here](resources/experiments/1.demo_basic.json) and is shown below:\n",
    "\n",
    "Example Experiment:\n",
    "```json\n",
    "{\n",
    "    \"name\": \"1.demo_basic\",\n",
    "    \"topologies\": [\n",
    "        {\n",
    "            \"pathToFile\": \"topologies/1.demo_basic/small_topology.json\"\n",
    "        },\n",
    "        {\n",
    "            \"pathToFile\": \"topologies/1.demo_basic/large_topology.json\"\n",
    "        }\n",
    "    ],\n",
    "    \"workloads\": [\n",
    "        {\n",
    "            \"pathToFile\": \"workload_traces/bitbrains-small\",\n",
    "            \"type\": \"ComputeWorkload\"\n",
    "        }\n",
    "    ],\n",
    "    \"exportModels\": [\n",
    "        {\n",
    "            \"exportInterval\": 30000\n",
    "        }\n",
    "    ]\n",
    "}\n",
    "```\n",
    "\n",
    "The scenario file used in this demo defines four variables:\n",
    "- \"name\" defines where the ouput files will be stored\n",
    "- \"topologies\" defines the different topologies that will be used in the experiments\n",
    "- \"workloads\" defines what workloads will be run\n",
    "- \"exportModels\" defines how frequent OpenDC should export data\n",
    "\n",
    "\n",
    "Note: most of the variables in the scenario file are provided as lists. This makes it possible to run different experiments using the same scenario. Graph Greenifier will run all combinations of variables as seperate experiments. In this demo, we providee two topologies, and a single workload. This means that the same workload will be executed on the both scenarios, resulting in two results."
   ]
  },
  {
   "cell_type": "markdown",
   "metadata": {},
   "source": [
    "# 5. Running an Experiment\n",
    "\n",
    "An experiment can be run directly from the terminal using the OpenDCExperimentRunner."
   ]
  },
  {
   "cell_type": "code",
   "execution_count": 5,
   "metadata": {},
   "outputs": [
    {
     "name": "stdout",
     "output_type": "stream",
     "text": [
      "\n",
      "\n",
      "\u001B[32m================================================================================\u001B[0m\n",
      "\u001B[34m Running scenario: 0 \u001B[0m\n",
      "\u001B[32m================================================================================\u001B[0m\n",
      "\u001B[34m Starting seed: 0 \u001B[0m\n"
     ]
    },
    {
     "name": "stderr",
     "output_type": "stream",
     "text": [
      "Simulating...   0% [                                       ] 0/2 (0:00:00 / ?) "
     ]
    },
    {
     "name": "stdout",
     "output_type": "stream",
     "text": [
      "14:48:55.804 [\u001B[33mWARN \u001B[m] org.opendc.compute.simulator.telemetry.ComputeMetricReader - \n",
      "\t\t\t\t\tMetrics after 833 hours:\n",
      "\t\t\t\t\t\tTasks Total: 50\n",
      "\t\t\t\t\t\tTasks Active: 2\n",
      "\t\t\t\t\t\tTasks Pending: 39\n",
      "\t\t\t\t\t\tTasks Completed: 9\n",
      "\t\t\t\t\t\tTasks Terminated: 0\n",
      "\n",
      "14:48:55.830 [\u001B[33mWARN \u001B[m] org.opendc.compute.simulator.telemetry.ComputeMetricReader - \n",
      "\t\t\t\t\tMetrics after 1666 hours:\n",
      "\t\t\t\t\t\tTasks Total: 50\n",
      "\t\t\t\t\t\tTasks Active: 2\n",
      "\t\t\t\t\t\tTasks Pending: 37\n",
      "\t\t\t\t\t\tTasks Completed: 11\n",
      "\t\t\t\t\t\tTasks Terminated: 0\n",
      "\n",
      "14:48:55.867 [\u001B[33mWARN \u001B[m] org.opendc.compute.simulator.telemetry.ComputeMetricReader - \n",
      "\t\t\t\t\tMetrics after 2500 hours:\n",
      "\t\t\t\t\t\tTasks Total: 50\n",
      "\t\t\t\t\t\tTasks Active: 2\n",
      "\t\t\t\t\t\tTasks Pending: 35\n",
      "\t\t\t\t\t\tTasks Completed: 13\n",
      "\t\t\t\t\t\tTasks Terminated: 0\n",
      "\n",
      "14:48:55.933 [\u001B[33mWARN \u001B[m] org.opendc.compute.simulator.telemetry.ComputeMetricReader - \n",
      "\t\t\t\t\tMetrics after 3333 hours:\n",
      "\t\t\t\t\t\tTasks Total: 50\n",
      "\t\t\t\t\t\tTasks Active: 4\n",
      "\t\t\t\t\t\tTasks Pending: 31\n",
      "\t\t\t\t\t\tTasks Completed: 15\n",
      "\t\t\t\t\t\tTasks Terminated: 0\n",
      "\n",
      "14:48:55.960 [\u001B[33mWARN \u001B[m] org.opendc.compute.simulator.telemetry.ComputeMetricReader - \n",
      "\t\t\t\t\tMetrics after 4166 hours:\n",
      "\t\t\t\t\t\tTasks Total: 50\n",
      "\t\t\t\t\t\tTasks Active: 4\n",
      "\t\t\t\t\t\tTasks Pending: 27\n",
      "\t\t\t\t\t\tTasks Completed: 19\n",
      "\t\t\t\t\t\tTasks Terminated: 0\n",
      "\n",
      "14:48:55.981 [\u001B[33mWARN \u001B[m] org.opendc.compute.simulator.telemetry.ComputeMetricReader - \n",
      "\t\t\t\t\tMetrics after 5000 hours:\n",
      "\t\t\t\t\t\tTasks Total: 50\n",
      "\t\t\t\t\t\tTasks Active: 7\n",
      "\t\t\t\t\t\tTasks Pending: 20\n",
      "\t\t\t\t\t\tTasks Completed: 23\n",
      "\t\t\t\t\t\tTasks Terminated: 0\n",
      "\n",
      "14:48:55.994 [\u001B[33mWARN \u001B[m] org.opendc.compute.simulator.service.ComputeService - Failed to spawn Task[uid=00000000-0000-0000-8c8a-1f148a8bb259,name=740,state=PROVISIONING]: does not fit\n",
      "14:48:56.006 [\u001B[33mWARN \u001B[m] org.opendc.compute.simulator.telemetry.ComputeMetricReader - \n",
      "\t\t\t\t\tMetrics after 5833 hours:\n",
      "\t\t\t\t\t\tTasks Total: 50\n",
      "\t\t\t\t\t\tTasks Active: 6\n",
      "\t\t\t\t\t\tTasks Pending: 10\n",
      "\t\t\t\t\t\tTasks Completed: 33\n",
      "\t\t\t\t\t\tTasks Terminated: 1\n",
      "\n",
      "14:48:56.017 [\u001B[33mWARN \u001B[m] org.opendc.compute.simulator.telemetry.ComputeMetricReader - \n",
      "\t\t\t\t\tMetrics after 6666 hours:\n",
      "\t\t\t\t\t\tTasks Total: 50\n",
      "\t\t\t\t\t\tTasks Active: 3\n",
      "\t\t\t\t\t\tTasks Pending: 7\n",
      "\t\t\t\t\t\tTasks Completed: 39\n",
      "\t\t\t\t\t\tTasks Terminated: 1\n",
      "\n",
      "14:48:56.109 [\u001B[33mWARN \u001B[m] org.opendc.compute.simulator.telemetry.ComputeMetricReader - \n",
      "\t\t\t\t\tMetrics after 7500 hours:\n",
      "\t\t\t\t\t\tTasks Total: 50\n",
      "\t\t\t\t\t\tTasks Active: 5\n",
      "\t\t\t\t\t\tTasks Pending: 0\n",
      "\t\t\t\t\t\tTasks Completed: 44\n",
      "\t\t\t\t\t\tTasks Terminated: 1\n",
      "\n",
      "\n",
      "\n",
      "\u001B[32m================================================================================\u001B[0m\n",
      "\u001B[34m Running scenario: 1 \u001B[0m\n",
      "\u001B[32m================================================================================\u001B[0m\n",
      "\u001B[34m Starting seed: 0 \u001B[0m\n"
     ]
    },
    {
     "name": "stderr",
     "output_type": "stream",
     "text": [
      "Simulating...  50% [================                 ] 1/2 (0:00:02 / 0:00:02) "
     ]
    },
    {
     "name": "stdout",
     "output_type": "stream",
     "text": [
      "14:48:56.681 [\u001B[33mWARN \u001B[m] org.opendc.compute.simulator.telemetry.ComputeMetricReader - \n",
      "\t\t\t\t\tMetrics after 833 hours:\n",
      "\t\t\t\t\t\tTasks Total: 50\n",
      "\t\t\t\t\t\tTasks Active: 2\n",
      "\t\t\t\t\t\tTasks Pending: 17\n",
      "\t\t\t\t\t\tTasks Completed: 31\n",
      "\t\t\t\t\t\tTasks Terminated: 0\n",
      "\n",
      "14:48:56.705 [\u001B[33mWARN \u001B[m] org.opendc.compute.simulator.telemetry.ComputeMetricReader - \n",
      "\t\t\t\t\tMetrics after 1666 hours:\n",
      "\t\t\t\t\t\tTasks Total: 50\n",
      "\t\t\t\t\t\tTasks Active: 14\n",
      "\t\t\t\t\t\tTasks Pending: 0\n",
      "\t\t\t\t\t\tTasks Completed: 36\n",
      "\t\t\t\t\t\tTasks Terminated: 0\n",
      "\n"
     ]
    },
    {
     "name": "stderr",
     "output_type": "stream",
     "text": [
      "Simulating... 100% [=================================] 2/2 (0:00:02 / 0:00:00) \n"
     ]
    },
    {
     "data": {
      "text/plain": [
       "CompletedProcess(args=['OpenDCExperimentRunner/bin/OpenDCExperimentRunner', '--experiment-path', 'experiments/1.demo_basic.json'], returncode=0)"
      ]
     },
     "execution_count": 5,
     "metadata": {},
     "output_type": "execute_result"
    }
   ],
   "source": [
    "import subprocess\n",
    "\n",
    "pathToScenario = \"experiments/1.demo_basic.json\"\n",
    "subprocess.run([\"OpenDCExperimentRunner/bin/OpenDCExperimentRunner\", \"--experiment-path\", pathToScenario])"
   ]
  },
  {
   "cell_type": "markdown",
   "metadata": {},
   "source": [
    "## 6. Output"
   ]
  },
  {
   "cell_type": "code",
   "execution_count": 7,
   "metadata": {},
   "outputs": [],
   "source": [
    "import pandas as pd\n",
    "import numpy as np\n",
    "import matplotlib.pyplot as plt\n",
    "\n",
    "\n",
    "df_host_small = pd.read_parquet(\"output/1.demo_basic/raw-output/0/seed=0/host.parquet\")\n",
    "df_power_small = pd.read_parquet(\"output/1.demo_basic/raw-output/0/seed=0/powerSource.parquet\")\n",
    "df_task_small = pd.read_parquet(\"output/1.demo_basic/raw-output/0/seed=0/task.parquet\")\n",
    "df_service_small = pd.read_parquet(\"output/1.demo_basic/raw-output/0/seed=0/service.parquet\")\n",
    "\n",
    "df_host_large = pd.read_parquet(\"output/1.demo_basic/raw-output/1/seed=0/host.parquet\")\n",
    "df_power_large = pd.read_parquet(\"output/1.demo_basic/raw-output/1/seed=0/powerSource.parquet\")\n",
    "df_task_large = pd.read_parquet(\"output/1.demo_basic/raw-output/1/seed=0/task.parquet\")\n",
    "df_service_large = pd.read_parquet(\"output/1.demo_basic/raw-output/1/seed=0/service.parquet\")"
   ]
  },
  {
   "cell_type": "markdown",
   "metadata": {},
   "source": [
    "### Host\n",
    "- Information about the host at each timestamp. \n",
    "- Examples of metrics: \n",
    "    - cpu_utilization\n",
    "    - power_draw \n",
    "    - energy_usage "
   ]
  },
  {
   "cell_type": "code",
   "execution_count": 8,
   "metadata": {},
   "outputs": [
    {
     "name": "stdout",
     "output_type": "stream",
     "text": [
      "The host file contains the following columns:\n",
      " ['timestamp' 'timestamp_absolute' 'host_id' 'host_name' 'core_count'\n",
      " 'mem_capacity' 'guests_terminated' 'guests_running' 'guests_error'\n",
      " 'guests_invalid' 'cpu_limit' 'cpu_usage' 'cpu_demand' 'cpu_utilization'\n",
      " 'cpu_time_active' 'cpu_time_idle' 'cpu_time_steal' 'cpu_time_lost'\n",
      " 'power_draw' 'energy_usage' 'uptime' 'downtime' 'boot_time'\n",
      " 'boot_time_absolute']\n",
      "\n",
      "The host file consist of 949 samples\n"
     ]
    },
    {
     "data": {
      "text/html": [
       "<div>\n",
       "<style scoped>\n",
       "    .dataframe tbody tr th:only-of-type {\n",
       "        vertical-align: middle;\n",
       "    }\n",
       "\n",
       "    .dataframe tbody tr th {\n",
       "        vertical-align: top;\n",
       "    }\n",
       "\n",
       "    .dataframe thead th {\n",
       "        text-align: right;\n",
       "    }\n",
       "</style>\n",
       "<table border=\"1\" class=\"dataframe\">\n",
       "  <thead>\n",
       "    <tr style=\"text-align: right;\">\n",
       "      <th></th>\n",
       "      <th>timestamp</th>\n",
       "      <th>timestamp_absolute</th>\n",
       "      <th>host_id</th>\n",
       "      <th>host_name</th>\n",
       "      <th>core_count</th>\n",
       "      <th>mem_capacity</th>\n",
       "      <th>guests_terminated</th>\n",
       "      <th>guests_running</th>\n",
       "      <th>guests_error</th>\n",
       "      <th>guests_invalid</th>\n",
       "      <th>...</th>\n",
       "      <th>cpu_time_active</th>\n",
       "      <th>cpu_time_idle</th>\n",
       "      <th>cpu_time_steal</th>\n",
       "      <th>cpu_time_lost</th>\n",
       "      <th>power_draw</th>\n",
       "      <th>energy_usage</th>\n",
       "      <th>uptime</th>\n",
       "      <th>downtime</th>\n",
       "      <th>boot_time</th>\n",
       "      <th>boot_time_absolute</th>\n",
       "    </tr>\n",
       "  </thead>\n",
       "  <tbody>\n",
       "    <tr>\n",
       "      <th>0</th>\n",
       "      <td>30000000</td>\n",
       "      <td>1376344546000</td>\n",
       "      <td>bb20b45f-d4d9-5138-0000-000000000000</td>\n",
       "      <td>H01</td>\n",
       "      <td>16</td>\n",
       "      <td>140457600000</td>\n",
       "      <td>0</td>\n",
       "      <td>9</td>\n",
       "      <td>0</td>\n",
       "      <td>0</td>\n",
       "      <td>...</td>\n",
       "      <td>189434</td>\n",
       "      <td>29810566</td>\n",
       "      <td>0</td>\n",
       "      <td>0</td>\n",
       "      <td>201.030991</td>\n",
       "      <td>6037886.5</td>\n",
       "      <td>30000000</td>\n",
       "      <td>0</td>\n",
       "      <td>1376314546000</td>\n",
       "      <td>NaN</td>\n",
       "    </tr>\n",
       "    <tr>\n",
       "      <th>1</th>\n",
       "      <td>60000000</td>\n",
       "      <td>1376374546000</td>\n",
       "      <td>bb20b45f-d4d9-5138-0000-000000000000</td>\n",
       "      <td>H01</td>\n",
       "      <td>16</td>\n",
       "      <td>140457600000</td>\n",
       "      <td>0</td>\n",
       "      <td>9</td>\n",
       "      <td>0</td>\n",
       "      <td>0</td>\n",
       "      <td>...</td>\n",
       "      <td>161644</td>\n",
       "      <td>29838356</td>\n",
       "      <td>0</td>\n",
       "      <td>0</td>\n",
       "      <td>201.112366</td>\n",
       "      <td>6032329.0</td>\n",
       "      <td>30000000</td>\n",
       "      <td>0</td>\n",
       "      <td>1376314546000</td>\n",
       "      <td>NaN</td>\n",
       "    </tr>\n",
       "    <tr>\n",
       "      <th>2</th>\n",
       "      <td>90000000</td>\n",
       "      <td>1376404546000</td>\n",
       "      <td>bb20b45f-d4d9-5138-0000-000000000000</td>\n",
       "      <td>H01</td>\n",
       "      <td>16</td>\n",
       "      <td>140457600000</td>\n",
       "      <td>0</td>\n",
       "      <td>9</td>\n",
       "      <td>0</td>\n",
       "      <td>0</td>\n",
       "      <td>...</td>\n",
       "      <td>1720380</td>\n",
       "      <td>28279620</td>\n",
       "      <td>0</td>\n",
       "      <td>0</td>\n",
       "      <td>201.069702</td>\n",
       "      <td>6344076.0</td>\n",
       "      <td>30000000</td>\n",
       "      <td>0</td>\n",
       "      <td>1376314546000</td>\n",
       "      <td>NaN</td>\n",
       "    </tr>\n",
       "    <tr>\n",
       "      <th>3</th>\n",
       "      <td>120000000</td>\n",
       "      <td>1376434546000</td>\n",
       "      <td>bb20b45f-d4d9-5138-0000-000000000000</td>\n",
       "      <td>H01</td>\n",
       "      <td>16</td>\n",
       "      <td>140457600000</td>\n",
       "      <td>0</td>\n",
       "      <td>9</td>\n",
       "      <td>0</td>\n",
       "      <td>0</td>\n",
       "      <td>...</td>\n",
       "      <td>138414</td>\n",
       "      <td>29861586</td>\n",
       "      <td>0</td>\n",
       "      <td>0</td>\n",
       "      <td>200.771698</td>\n",
       "      <td>6027683.5</td>\n",
       "      <td>30000000</td>\n",
       "      <td>0</td>\n",
       "      <td>1376314546000</td>\n",
       "      <td>NaN</td>\n",
       "    </tr>\n",
       "    <tr>\n",
       "      <th>4</th>\n",
       "      <td>150000000</td>\n",
       "      <td>1376464546000</td>\n",
       "      <td>bb20b45f-d4d9-5138-0000-000000000000</td>\n",
       "      <td>H01</td>\n",
       "      <td>16</td>\n",
       "      <td>140457600000</td>\n",
       "      <td>0</td>\n",
       "      <td>9</td>\n",
       "      <td>0</td>\n",
       "      <td>0</td>\n",
       "      <td>...</td>\n",
       "      <td>141622</td>\n",
       "      <td>29858378</td>\n",
       "      <td>0</td>\n",
       "      <td>0</td>\n",
       "      <td>200.838196</td>\n",
       "      <td>6028325.5</td>\n",
       "      <td>30000000</td>\n",
       "      <td>0</td>\n",
       "      <td>1376314546000</td>\n",
       "      <td>NaN</td>\n",
       "    </tr>\n",
       "  </tbody>\n",
       "</table>\n",
       "<p>5 rows × 24 columns</p>\n",
       "</div>"
      ],
      "text/plain": [
       "   timestamp  timestamp_absolute                               host_id  \\\n",
       "0   30000000       1376344546000  bb20b45f-d4d9-5138-0000-000000000000   \n",
       "1   60000000       1376374546000  bb20b45f-d4d9-5138-0000-000000000000   \n",
       "2   90000000       1376404546000  bb20b45f-d4d9-5138-0000-000000000000   \n",
       "3  120000000       1376434546000  bb20b45f-d4d9-5138-0000-000000000000   \n",
       "4  150000000       1376464546000  bb20b45f-d4d9-5138-0000-000000000000   \n",
       "\n",
       "  host_name  core_count  mem_capacity  guests_terminated  guests_running  \\\n",
       "0       H01          16  140457600000                  0               9   \n",
       "1       H01          16  140457600000                  0               9   \n",
       "2       H01          16  140457600000                  0               9   \n",
       "3       H01          16  140457600000                  0               9   \n",
       "4       H01          16  140457600000                  0               9   \n",
       "\n",
       "   guests_error  guests_invalid  ...  cpu_time_active  cpu_time_idle  \\\n",
       "0             0               0  ...           189434       29810566   \n",
       "1             0               0  ...           161644       29838356   \n",
       "2             0               0  ...          1720380       28279620   \n",
       "3             0               0  ...           138414       29861586   \n",
       "4             0               0  ...           141622       29858378   \n",
       "\n",
       "   cpu_time_steal  cpu_time_lost  power_draw  energy_usage    uptime  \\\n",
       "0               0              0  201.030991     6037886.5  30000000   \n",
       "1               0              0  201.112366     6032329.0  30000000   \n",
       "2               0              0  201.069702     6344076.0  30000000   \n",
       "3               0              0  200.771698     6027683.5  30000000   \n",
       "4               0              0  200.838196     6028325.5  30000000   \n",
       "\n",
       "   downtime      boot_time  boot_time_absolute  \n",
       "0         0  1376314546000                 NaN  \n",
       "1         0  1376314546000                 NaN  \n",
       "2         0  1376314546000                 NaN  \n",
       "3         0  1376314546000                 NaN  \n",
       "4         0  1376314546000                 NaN  \n",
       "\n",
       "[5 rows x 24 columns]"
      ]
     },
     "execution_count": 8,
     "metadata": {},
     "output_type": "execute_result"
    }
   ],
   "source": [
    "print(f\"The host file contains the following columns:\\n {np.array(df_host_small.columns)}\\n\")\n",
    "print(f\"The host file consist of {len(df_host_small)} samples\")\n",
    "df_host_small.head()"
   ]
  },
  {
   "cell_type": "markdown",
   "metadata": {},
   "source": [
    "### Tasks\n",
    "- The task file contains all information about the different tasks at each timestamp. \n",
    "- Example use cases:\n",
    "    - when is a task run\n",
    "    - How long did it take\n",
    "    - on which host was a task executed"
   ]
  },
  {
   "cell_type": "code",
   "execution_count": 9,
   "metadata": {},
   "outputs": [
    {
     "name": "stdout",
     "output_type": "stream",
     "text": [
      "The task file contains the following columns:\n",
      " ['timestamp' 'timestamp_absolute' 'task_id' 'host_id' 'task_name'\n",
      " 'cpu_count' 'mem_capacity' 'cpu_limit' 'cpu_time_active' 'cpu_time_idle'\n",
      " 'cpu_time_steal' 'cpu_time_lost' 'uptime' 'downtime' 'provision_time'\n",
      " 'boot_time' 'creation_time' 'finish_time' 'boot_time_absolute'\n",
      " 'task_state']\n",
      "The task file consist of 26436 samples\n"
     ]
    },
    {
     "data": {
      "text/html": [
       "<div>\n",
       "<style scoped>\n",
       "    .dataframe tbody tr th:only-of-type {\n",
       "        vertical-align: middle;\n",
       "    }\n",
       "\n",
       "    .dataframe tbody tr th {\n",
       "        vertical-align: top;\n",
       "    }\n",
       "\n",
       "    .dataframe thead th {\n",
       "        text-align: right;\n",
       "    }\n",
       "</style>\n",
       "<table border=\"1\" class=\"dataframe\">\n",
       "  <thead>\n",
       "    <tr style=\"text-align: right;\">\n",
       "      <th></th>\n",
       "      <th>timestamp</th>\n",
       "      <th>timestamp_absolute</th>\n",
       "      <th>task_id</th>\n",
       "      <th>host_id</th>\n",
       "      <th>task_name</th>\n",
       "      <th>cpu_count</th>\n",
       "      <th>mem_capacity</th>\n",
       "      <th>cpu_limit</th>\n",
       "      <th>cpu_time_active</th>\n",
       "      <th>cpu_time_idle</th>\n",
       "      <th>cpu_time_steal</th>\n",
       "      <th>cpu_time_lost</th>\n",
       "      <th>uptime</th>\n",
       "      <th>downtime</th>\n",
       "      <th>provision_time</th>\n",
       "      <th>boot_time</th>\n",
       "      <th>creation_time</th>\n",
       "      <th>finish_time</th>\n",
       "      <th>boot_time_absolute</th>\n",
       "      <th>task_state</th>\n",
       "    </tr>\n",
       "  </thead>\n",
       "  <tbody>\n",
       "    <tr>\n",
       "      <th>0</th>\n",
       "      <td>30000000</td>\n",
       "      <td>1376344546000</td>\n",
       "      <td>00000000-0000-0000-6e78-9e6aa1b965f4</td>\n",
       "      <td>bb20b45f-d4d9-5138-0000-000000000000</td>\n",
       "      <td>1019</td>\n",
       "      <td>1</td>\n",
       "      <td>181</td>\n",
       "      <td>0.0</td>\n",
       "      <td>2</td>\n",
       "      <td>0</td>\n",
       "      <td>0</td>\n",
       "      <td>0</td>\n",
       "      <td>30000000</td>\n",
       "      <td>0</td>\n",
       "      <td>0</td>\n",
       "      <td>0.0</td>\n",
       "      <td>0</td>\n",
       "      <td>NaN</td>\n",
       "      <td>1.376315e+12</td>\n",
       "      <td>RUNNING</td>\n",
       "    </tr>\n",
       "    <tr>\n",
       "      <th>1</th>\n",
       "      <td>30000000</td>\n",
       "      <td>1376344546000</td>\n",
       "      <td>00000000-0000-0000-f88b-b8a8724c81ec</td>\n",
       "      <td>bb20b45f-d4d9-5138-0000-000000000000</td>\n",
       "      <td>1023</td>\n",
       "      <td>1</td>\n",
       "      <td>260</td>\n",
       "      <td>0.0</td>\n",
       "      <td>1</td>\n",
       "      <td>0</td>\n",
       "      <td>0</td>\n",
       "      <td>0</td>\n",
       "      <td>30000000</td>\n",
       "      <td>0</td>\n",
       "      <td>0</td>\n",
       "      <td>0.0</td>\n",
       "      <td>0</td>\n",
       "      <td>NaN</td>\n",
       "      <td>1.376315e+12</td>\n",
       "      <td>RUNNING</td>\n",
       "    </tr>\n",
       "    <tr>\n",
       "      <th>2</th>\n",
       "      <td>30000000</td>\n",
       "      <td>1376344546000</td>\n",
       "      <td>00000000-0000-0000-53cb-9f0c747ea2ea</td>\n",
       "      <td>bb20b45f-d4d9-5138-0000-000000000000</td>\n",
       "      <td>1026</td>\n",
       "      <td>1</td>\n",
       "      <td>250</td>\n",
       "      <td>0.0</td>\n",
       "      <td>15</td>\n",
       "      <td>0</td>\n",
       "      <td>0</td>\n",
       "      <td>0</td>\n",
       "      <td>30000000</td>\n",
       "      <td>0</td>\n",
       "      <td>0</td>\n",
       "      <td>0.0</td>\n",
       "      <td>0</td>\n",
       "      <td>NaN</td>\n",
       "      <td>1.376315e+12</td>\n",
       "      <td>RUNNING</td>\n",
       "    </tr>\n",
       "    <tr>\n",
       "      <th>3</th>\n",
       "      <td>30000000</td>\n",
       "      <td>1376344546000</td>\n",
       "      <td>00000000-0000-0000-c584-133ac916ab3c</td>\n",
       "      <td>bb20b45f-d4d9-5138-0000-000000000000</td>\n",
       "      <td>1129</td>\n",
       "      <td>1</td>\n",
       "      <td>125</td>\n",
       "      <td>0.0</td>\n",
       "      <td>2</td>\n",
       "      <td>0</td>\n",
       "      <td>0</td>\n",
       "      <td>0</td>\n",
       "      <td>30000000</td>\n",
       "      <td>0</td>\n",
       "      <td>0</td>\n",
       "      <td>0.0</td>\n",
       "      <td>0</td>\n",
       "      <td>NaN</td>\n",
       "      <td>1.376315e+12</td>\n",
       "      <td>RUNNING</td>\n",
       "    </tr>\n",
       "    <tr>\n",
       "      <th>4</th>\n",
       "      <td>30000000</td>\n",
       "      <td>1376344546000</td>\n",
       "      <td>00000000-0000-0000-f3b8-488c368cb0a6</td>\n",
       "      <td>bb20b45f-d4d9-5138-0000-000000000000</td>\n",
       "      <td>1138</td>\n",
       "      <td>1</td>\n",
       "      <td>157</td>\n",
       "      <td>0.0</td>\n",
       "      <td>13</td>\n",
       "      <td>0</td>\n",
       "      <td>0</td>\n",
       "      <td>0</td>\n",
       "      <td>30000000</td>\n",
       "      <td>0</td>\n",
       "      <td>0</td>\n",
       "      <td>0.0</td>\n",
       "      <td>0</td>\n",
       "      <td>NaN</td>\n",
       "      <td>1.376315e+12</td>\n",
       "      <td>RUNNING</td>\n",
       "    </tr>\n",
       "  </tbody>\n",
       "</table>\n",
       "</div>"
      ],
      "text/plain": [
       "   timestamp  timestamp_absolute                               task_id  \\\n",
       "0   30000000       1376344546000  00000000-0000-0000-6e78-9e6aa1b965f4   \n",
       "1   30000000       1376344546000  00000000-0000-0000-f88b-b8a8724c81ec   \n",
       "2   30000000       1376344546000  00000000-0000-0000-53cb-9f0c747ea2ea   \n",
       "3   30000000       1376344546000  00000000-0000-0000-c584-133ac916ab3c   \n",
       "4   30000000       1376344546000  00000000-0000-0000-f3b8-488c368cb0a6   \n",
       "\n",
       "                                host_id task_name  cpu_count  mem_capacity  \\\n",
       "0  bb20b45f-d4d9-5138-0000-000000000000      1019          1           181   \n",
       "1  bb20b45f-d4d9-5138-0000-000000000000      1023          1           260   \n",
       "2  bb20b45f-d4d9-5138-0000-000000000000      1026          1           250   \n",
       "3  bb20b45f-d4d9-5138-0000-000000000000      1129          1           125   \n",
       "4  bb20b45f-d4d9-5138-0000-000000000000      1138          1           157   \n",
       "\n",
       "   cpu_limit  cpu_time_active  cpu_time_idle  cpu_time_steal  cpu_time_lost  \\\n",
       "0        0.0                2              0               0              0   \n",
       "1        0.0                1              0               0              0   \n",
       "2        0.0               15              0               0              0   \n",
       "3        0.0                2              0               0              0   \n",
       "4        0.0               13              0               0              0   \n",
       "\n",
       "     uptime  downtime  provision_time  boot_time  creation_time  finish_time  \\\n",
       "0  30000000         0               0        0.0              0          NaN   \n",
       "1  30000000         0               0        0.0              0          NaN   \n",
       "2  30000000         0               0        0.0              0          NaN   \n",
       "3  30000000         0               0        0.0              0          NaN   \n",
       "4  30000000         0               0        0.0              0          NaN   \n",
       "\n",
       "   boot_time_absolute task_state  \n",
       "0        1.376315e+12    RUNNING  \n",
       "1        1.376315e+12    RUNNING  \n",
       "2        1.376315e+12    RUNNING  \n",
       "3        1.376315e+12    RUNNING  \n",
       "4        1.376315e+12    RUNNING  "
      ]
     },
     "execution_count": 9,
     "metadata": {},
     "output_type": "execute_result"
    }
   ],
   "source": [
    "print(f\"The task file contains the following columns:\\n {np.array(df_task_small.columns)}\")\n",
    "print(f\"The task file consist of {len(df_task_small)} samples\")\n",
    "df_task_small.head()"
   ]
  },
  {
   "cell_type": "markdown",
   "metadata": {},
   "source": [
    "### Power\n",
    "- The task file contains all information about the power sources at each timestamp. \n",
    "- Example use cases:\n",
    "    - What is the total energy used during the workload?"
   ]
  },
  {
   "cell_type": "code",
   "execution_count": 10,
   "metadata": {},
   "outputs": [
    {
     "name": "stdout",
     "output_type": "stream",
     "text": [
      "The task file contains the following columns:\n",
      " ['timestamp' 'timestamp_absolute' 'hosts_connected' 'power_draw'\n",
      " 'energy_usage' 'carbon_intensity' 'carbon_emission']\n",
      "The power file consist of 949 samples\n"
     ]
    },
    {
     "data": {
      "text/html": [
       "<div>\n",
       "<style scoped>\n",
       "    .dataframe tbody tr th:only-of-type {\n",
       "        vertical-align: middle;\n",
       "    }\n",
       "\n",
       "    .dataframe tbody tr th {\n",
       "        vertical-align: top;\n",
       "    }\n",
       "\n",
       "    .dataframe thead th {\n",
       "        text-align: right;\n",
       "    }\n",
       "</style>\n",
       "<table border=\"1\" class=\"dataframe\">\n",
       "  <thead>\n",
       "    <tr style=\"text-align: right;\">\n",
       "      <th></th>\n",
       "      <th>timestamp</th>\n",
       "      <th>timestamp_absolute</th>\n",
       "      <th>hosts_connected</th>\n",
       "      <th>power_draw</th>\n",
       "      <th>energy_usage</th>\n",
       "      <th>carbon_intensity</th>\n",
       "      <th>carbon_emission</th>\n",
       "    </tr>\n",
       "  </thead>\n",
       "  <tbody>\n",
       "    <tr>\n",
       "      <th>0</th>\n",
       "      <td>30000000</td>\n",
       "      <td>1376344546000</td>\n",
       "      <td>0</td>\n",
       "      <td>201.030991</td>\n",
       "      <td>6040446.0</td>\n",
       "      <td>124.368896</td>\n",
       "      <td>154.124557</td>\n",
       "    </tr>\n",
       "    <tr>\n",
       "      <th>1</th>\n",
       "      <td>60000000</td>\n",
       "      <td>1376374546000</td>\n",
       "      <td>0</td>\n",
       "      <td>201.112366</td>\n",
       "      <td>6032579.5</td>\n",
       "      <td>85.929504</td>\n",
       "      <td>172.567825</td>\n",
       "    </tr>\n",
       "    <tr>\n",
       "      <th>2</th>\n",
       "      <td>90000000</td>\n",
       "      <td>1376404546000</td>\n",
       "      <td>0</td>\n",
       "      <td>201.069702</td>\n",
       "      <td>6325101.5</td>\n",
       "      <td>68.640533</td>\n",
       "      <td>103.859169</td>\n",
       "    </tr>\n",
       "    <tr>\n",
       "      <th>3</th>\n",
       "      <td>120000000</td>\n",
       "      <td>1376434546000</td>\n",
       "      <td>0</td>\n",
       "      <td>200.771698</td>\n",
       "      <td>6028002.0</td>\n",
       "      <td>146.141983</td>\n",
       "      <td>215.421722</td>\n",
       "    </tr>\n",
       "    <tr>\n",
       "      <th>4</th>\n",
       "      <td>150000000</td>\n",
       "      <td>1376464546000</td>\n",
       "      <td>0</td>\n",
       "      <td>200.838196</td>\n",
       "      <td>6029240.0</td>\n",
       "      <td>103.674057</td>\n",
       "      <td>242.867645</td>\n",
       "    </tr>\n",
       "  </tbody>\n",
       "</table>\n",
       "</div>"
      ],
      "text/plain": [
       "   timestamp  timestamp_absolute  hosts_connected  power_draw  energy_usage  \\\n",
       "0   30000000       1376344546000                0  201.030991     6040446.0   \n",
       "1   60000000       1376374546000                0  201.112366     6032579.5   \n",
       "2   90000000       1376404546000                0  201.069702     6325101.5   \n",
       "3  120000000       1376434546000                0  200.771698     6028002.0   \n",
       "4  150000000       1376464546000                0  200.838196     6029240.0   \n",
       "\n",
       "   carbon_intensity  carbon_emission  \n",
       "0        124.368896       154.124557  \n",
       "1         85.929504       172.567825  \n",
       "2         68.640533       103.859169  \n",
       "3        146.141983       215.421722  \n",
       "4        103.674057       242.867645  "
      ]
     },
     "execution_count": 10,
     "metadata": {},
     "output_type": "execute_result"
    }
   ],
   "source": [
    "print(f\"The task file contains the following columns:\\n {np.array(df_power_small.columns)}\")\n",
    "print(f\"The power file consist of {len(df_power_small)} samples\")\n",
    "df_power_small.head()"
   ]
  },
  {
   "cell_type": "markdown",
   "metadata": {},
   "source": [
    "### Service\n",
    "\n",
    "- The service file contains genaral information about the experiments. \n",
    "- Example uses:\n",
    "    - How many tasks are running?\n",
    "    - How many hosts are up?"
   ]
  },
  {
   "cell_type": "code",
   "execution_count": 11,
   "metadata": {},
   "outputs": [
    {
     "name": "stdout",
     "output_type": "stream",
     "text": [
      "The service file contains the following columns:\n",
      " ['timestamp' 'timestamp_absolute' 'hosts_up' 'tasks_pending' 'tasks_total'\n",
      " 'tasks_active' 'tasks_completed' 'tasks_terminated' 'attempts_success'\n",
      " 'attempts_failure']\n",
      "The service file consist of 949 samples\n"
     ]
    },
    {
     "data": {
      "text/html": [
       "<div>\n",
       "<style scoped>\n",
       "    .dataframe tbody tr th:only-of-type {\n",
       "        vertical-align: middle;\n",
       "    }\n",
       "\n",
       "    .dataframe tbody tr th {\n",
       "        vertical-align: top;\n",
       "    }\n",
       "\n",
       "    .dataframe thead th {\n",
       "        text-align: right;\n",
       "    }\n",
       "</style>\n",
       "<table border=\"1\" class=\"dataframe\">\n",
       "  <thead>\n",
       "    <tr style=\"text-align: right;\">\n",
       "      <th></th>\n",
       "      <th>timestamp</th>\n",
       "      <th>timestamp_absolute</th>\n",
       "      <th>hosts_up</th>\n",
       "      <th>tasks_pending</th>\n",
       "      <th>tasks_total</th>\n",
       "      <th>tasks_active</th>\n",
       "      <th>tasks_completed</th>\n",
       "      <th>tasks_terminated</th>\n",
       "      <th>attempts_success</th>\n",
       "      <th>attempts_failure</th>\n",
       "    </tr>\n",
       "  </thead>\n",
       "  <tbody>\n",
       "    <tr>\n",
       "      <th>0</th>\n",
       "      <td>30000000</td>\n",
       "      <td>1376344546000</td>\n",
       "      <td>1</td>\n",
       "      <td>35</td>\n",
       "      <td>44</td>\n",
       "      <td>9</td>\n",
       "      <td>0</td>\n",
       "      <td>0</td>\n",
       "      <td>9</td>\n",
       "      <td>0</td>\n",
       "    </tr>\n",
       "    <tr>\n",
       "      <th>1</th>\n",
       "      <td>60000000</td>\n",
       "      <td>1376374546000</td>\n",
       "      <td>1</td>\n",
       "      <td>35</td>\n",
       "      <td>44</td>\n",
       "      <td>9</td>\n",
       "      <td>0</td>\n",
       "      <td>0</td>\n",
       "      <td>9</td>\n",
       "      <td>0</td>\n",
       "    </tr>\n",
       "    <tr>\n",
       "      <th>2</th>\n",
       "      <td>90000000</td>\n",
       "      <td>1376404546000</td>\n",
       "      <td>1</td>\n",
       "      <td>35</td>\n",
       "      <td>44</td>\n",
       "      <td>9</td>\n",
       "      <td>0</td>\n",
       "      <td>0</td>\n",
       "      <td>9</td>\n",
       "      <td>0</td>\n",
       "    </tr>\n",
       "    <tr>\n",
       "      <th>3</th>\n",
       "      <td>120000000</td>\n",
       "      <td>1376434546000</td>\n",
       "      <td>1</td>\n",
       "      <td>35</td>\n",
       "      <td>44</td>\n",
       "      <td>9</td>\n",
       "      <td>0</td>\n",
       "      <td>0</td>\n",
       "      <td>9</td>\n",
       "      <td>0</td>\n",
       "    </tr>\n",
       "    <tr>\n",
       "      <th>4</th>\n",
       "      <td>150000000</td>\n",
       "      <td>1376464546000</td>\n",
       "      <td>1</td>\n",
       "      <td>35</td>\n",
       "      <td>44</td>\n",
       "      <td>9</td>\n",
       "      <td>0</td>\n",
       "      <td>0</td>\n",
       "      <td>9</td>\n",
       "      <td>0</td>\n",
       "    </tr>\n",
       "  </tbody>\n",
       "</table>\n",
       "</div>"
      ],
      "text/plain": [
       "   timestamp  timestamp_absolute  hosts_up  tasks_pending  tasks_total  \\\n",
       "0   30000000       1376344546000         1             35           44   \n",
       "1   60000000       1376374546000         1             35           44   \n",
       "2   90000000       1376404546000         1             35           44   \n",
       "3  120000000       1376434546000         1             35           44   \n",
       "4  150000000       1376464546000         1             35           44   \n",
       "\n",
       "   tasks_active  tasks_completed  tasks_terminated  attempts_success  \\\n",
       "0             9                0                 0                 9   \n",
       "1             9                0                 0                 9   \n",
       "2             9                0                 0                 9   \n",
       "3             9                0                 0                 9   \n",
       "4             9                0                 0                 9   \n",
       "\n",
       "   attempts_failure  \n",
       "0                 0  \n",
       "1                 0  \n",
       "2                 0  \n",
       "3                 0  \n",
       "4                 0  "
      ]
     },
     "execution_count": 11,
     "metadata": {},
     "output_type": "execute_result"
    }
   ],
   "source": [
    "print(f\"The service file contains the following columns:\\n {np.array(df_service_small.columns)}\")\n",
    "print(f\"The service file consist of {len(df_service_small)} samples\")\n",
    "df_service_small.head()"
   ]
  },
  {
   "cell_type": "markdown",
   "metadata": {},
   "source": [
    "## 7. Performance\n",
    "\n",
    "- To properly compare the different experiments, we would like to aggregate them into meaningfull values."
   ]
  },
  {
   "cell_type": "code",
   "execution_count": 12,
   "metadata": {},
   "outputs": [
    {
     "name": "stdout",
     "output_type": "stream",
     "text": [
      "The small data center had a total runtime of 328 days 22:10:19\n",
      "The large data center had a total runtime of 89 days 11:24:52\n",
      "\n",
      "On average, the utilization of each host in the small data center is 13.52%\n",
      "On average, the utilization of each host in the large data center is 10.64%\n"
     ]
    }
   ],
   "source": [
    "runtime_small = pd.to_timedelta(df_service_small.timestamp.max() - df_service_small.timestamp.min(), unit=\"ms\")\n",
    "runtime_large = pd.to_timedelta(df_service_large.timestamp.max() - df_service_large.timestamp.min(), unit=\"ms\")\n",
    "\n",
    "print(f\"The small data center had a total runtime of {runtime_small}\")\n",
    "print(f\"The large data center had a total runtime of {runtime_large}\\n\")\n",
    "\n",
    "\n",
    "\n",
    "utilization_small = df_host_small.cpu_utilization.mean()\n",
    "utilization_large = df_host_large.cpu_utilization.mean()\n",
    "\n",
    "print(f\"On average, the utilization of each host in the small data center is {utilization_small * 100:.2f}%\")\n",
    "print(f\"On average, the utilization of each host in the large data center is {utilization_large * 100:.2f}%\")"
   ]
  },
  {
   "cell_type": "markdown",
   "metadata": {},
   "source": [
    "## 7. Sustainability\n",
    "\n",
    "We can also compare the two data centers in terms of sustainabilty\n",
    "\n",
    "Next we print the total energy usage of the two data centers"
   ]
  },
  {
   "cell_type": "code",
   "execution_count": 13,
   "metadata": {},
   "outputs": [
    {
     "name": "stdout",
     "output_type": "stream",
     "text": [
      "The small data center used 1794.57 kWh during the workload\n",
      "The large data center used 2390.86 kWh during the workload\n"
     ]
    }
   ],
   "source": [
    "energy_small = df_power_small.energy_usage.sum() / 3_600_000 # convert energy to kWh\n",
    "energy_large = df_power_large.energy_usage.sum() / 3_600_000 # convert energy to kWh\n",
    "\n",
    "\n",
    "print(f\"The small data center used {energy_small:.2f} kWh during the workload\")\n",
    "print(f\"The large data center used {energy_large:.2f} kWh during the workload\")"
   ]
  },
  {
   "cell_type": "markdown",
   "metadata": {},
   "source": [
    "#### Can you think of more metrics to print?"
   ]
  },
  {
   "cell_type": "code",
   "execution_count": 14,
   "metadata": {},
   "outputs": [],
   "source": [
    "# Your code here"
   ]
  },
  {
   "cell_type": "markdown",
   "metadata": {},
   "source": [
    "## 8. Visualization\n",
    "\n",
    "While single numbers can be great to compare the different workloads, it does not always indicate the reasons for the difference. \n",
    "\n",
    "Similarly to the value aggregation, vizualization can be done directly using the pandas dataframes. \n",
    "However, Graph Greenifier also provides several predefined plotting tools to help this process.\n",
    "\n",
    "### Service\n",
    "\n",
    "Lets start with plotting general information using the service output file. This can be done using the *plotService* function. \n",
    "Below, we plot the number of active servers during the workload. "
   ]
  },
  {
   "cell_type": "code",
   "execution_count": 15,
   "metadata": {},
   "outputs": [
    {
     "data": {
      "image/png": "[encoded data removed]",
      "text/plain": [
       "<Figure size 640x480 with 1 Axes>"
      ]
     },
     "metadata": {},
     "output_type": "display_data"
    }
   ],
   "source": [
    "plt.plot(df_service_small.tasks_active, label=\"small\")\n",
    "plt.plot(df_service_large.tasks_active, label=\"big\")\n",
    "\n",
    "\n",
    "plt.title(\"active tasks during a workload\")\n",
    "plt.legend()\n",
    "plt.show()"
   ]
  },
  {
   "cell_type": "markdown",
   "metadata": {},
   "source": [
    "### Hosts\n",
    "\n",
    "We can also look at the performance of the hosts. \n",
    "\n",
    "Lets plot the utilization of the hosts over time."
   ]
  },
  {
   "cell_type": "code",
   "execution_count": 16,
   "metadata": {},
   "outputs": [
    {
     "data": {
      "image/png": "[encoded data removed]",
      "text/plain": [
       "<Figure size 640x480 with 1 Axes>"
      ]
     },
     "metadata": {},
     "output_type": "display_data"
    }
   ],
   "source": [
    "def plotHost(df_host, column, aggregation_method, label, window_size=1000):\n",
    "    if aggregation_method not in [\"mean\", \"sum\"]:\n",
    "        raise ValueError(f\"incorrect aggregation method provided: {aggregation_method}, please pick on of [mean, sum]\")\n",
    "\n",
    "    df_agg = df_host.groupby(\"timestamp\")[[column]].agg(aggregation_method)\n",
    "\n",
    "    plt.plot(df_agg.index/1000/60/60, df_agg.rolling(window_size, min_periods=1).mean(), label=label)\n",
    "    plt.xlabel(\"timestamp (h)\")\n",
    "    plt.ylabel(column)\n",
    "\n",
    "    plt.legend()\n",
    "\n",
    "\n",
    "plotHost(df_host_small, \"cpu_utilization\", \"mean\", \"small\")\n",
    "plotHost(df_host_large, \"cpu_utilization\", \"mean\", \"large\")"
   ]
  },
  {
   "cell_type": "markdown",
   "metadata": {},
   "source": [
    "### Sustainability\n",
    "\n",
    "We can also plot sustainability related metrics.\n",
    "\n",
    "Lets plot the energy usage over time"
   ]
  },
  {
   "cell_type": "code",
   "execution_count": 17,
   "metadata": {},
   "outputs": [
    {
     "data": {
      "image/png": "[encoded data removed]",
      "text/plain": [
       "<Figure size 640x480 with 1 Axes>"
      ]
     },
     "metadata": {},
     "output_type": "display_data"
    }
   ],
   "source": [
    "plotHost(df_power_small, \"energy_usage\", \"sum\", \"small\")\n",
    "plotHost(df_power_large, \"energy_usage\", \"sum\", \"large\")"
   ]
  },
  {
   "cell_type": "markdown",
   "metadata": {},
   "source": [
    "#### Can you think of other metrics to plot? (Maybe Carbon?)"
   ]
  },
  {
   "cell_type": "code",
   "execution_count": 49,
   "metadata": {},
   "outputs": [],
   "source": [
    "# Your code here"
   ]
  }
 ],
 "metadata": {
  "kernelspec": {
   "display_name": "opendc",
   "language": "python",
   "name": "python3"
  },
  "language_info": {
   "codemirror_mode": {
    "name": "ipython",
    "version": 3
   },
   "file_extension": ".py",
   "mimetype": "text/x-python",
   "name": "python",
   "nbconvert_exporter": "python",
   "pygments_lexer": "ipython3",
   "version": "3.12.3"
  }
 },
 "nbformat": 4,
 "nbformat_minor": 4
}
